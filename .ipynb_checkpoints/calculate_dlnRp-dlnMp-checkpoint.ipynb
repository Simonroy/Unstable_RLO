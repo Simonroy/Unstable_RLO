{
 "cells": [
  {
   "cell_type": "code",
   "execution_count": 40,
   "metadata": {
    "collapsed": false
   },
   "outputs": [],
   "source": [
    "%matplotlib inline\n",
    "import mesa_reader as ms\n",
    "from glob import glob\n",
    "from scipy import interpolate\n",
    "import matplotlib.pyplot as plt\n",
    "import numpy as np\n",
    "\n",
    "#Make sure these are the right values!\n",
    "Msol_to_MJup = 0.0009543\n",
    "Rsol_to_RJup = 0.10045"
   ]
  },
  {
   "cell_type": "code",
   "execution_count": 37,
   "metadata": {
    "collapsed": false
   },
   "outputs": [
    {
     "name": "stdout",
     "output_type": "stream",
     "text": [
      "0.000959475889763\n"
     ]
    },
    {
     "data": {
      "text/plain": [
       "[<matplotlib.lines.Line2D at 0x108d08610>]"
      ]
     },
     "execution_count": 37,
     "metadata": {},
     "output_type": "execute_result"
    },
    {
     "data": {
      "image/png": "[encoded data removed]",
      "text/plain": [
       "<matplotlib.figure.Figure at 0x10e9d5e10>"
      ]
     },
     "metadata": {},
     "output_type": "display_data"
    }
   ],
   "source": [
    "#Interpolate to calculate radius for one core mass at one age\n",
    "dr = '/Users/bjackson/research/mesa/mwd/make_planets_initial-grid_variable-core/models/Mpinit_1.00_MJup_10.00_ME_20_Myr_old/LOGS/'\n",
    "ls = glob(dr + '/history.data')\n",
    "filename = ls[-1]\n",
    "mod = ms.MesaData(filename)\n",
    "print(mod.data('star_mass')[0])\n",
    "plt.plot(mod.data('star_age'), mod.data('radius'))"
   ]
  },
  {
   "cell_type": "code",
   "execution_count": 29,
   "metadata": {
    "collapsed": false
   },
   "outputs": [
    {
     "name": "stdout",
     "output_type": "stream",
     "text": [
      "0.151955913604\n"
     ]
    }
   ],
   "source": [
    "#Make an implicit function that provide radius when you give an age\n",
    "radius_interp = interpolate.interp1d(mod.data('star_age'), mod.data('radius'))\n",
    "age = 1e7 #10 Myrs\n",
    "print(radius_interp(age))"
   ]
  },
  {
   "cell_type": "code",
   "execution_count": 34,
   "metadata": {
    "collapsed": false
   },
   "outputs": [
    {
     "name": "stdout",
     "output_type": "stream",
     "text": [
      "['/Users/bjackson/research/mesa/mwd/make_planets_initial-grid_variable-core/models/Mpinit_0.02_MJup_10.00_ME_10_Gyr_old/LOGS/history.data']\n"
     ]
    }
   ],
   "source": [
    "#Iterate through all the masses\n",
    "#Make a list of all the LOG file names\n",
    "overall_directory = '/Users/bjackson/research/mesa/mwd/make_planets_initial-grid_variable-core/models/'\n",
    "LOG_file_list = glob(overall_directory + '/*/LOGS/history.data')\n",
    "print(LOG_file_list[0:1])"
   ]
  },
  {
   "cell_type": "code",
   "execution_count": 66,
   "metadata": {
    "collapsed": false
   },
   "outputs": [
    {
     "data": {
      "text/plain": [
       "<matplotlib.collections.PathCollection at 0x10f576450>"
      ]
     },
     "execution_count": 66,
     "metadata": {},
     "output_type": "execute_result"
    },
    {
     "data": {
      "image/png": "[encoded data removed]",
      "text/plain": [
       "<matplotlib.figure.Figure at 0x10f7b7310>"
      ]
     },
     "metadata": {},
     "output_type": "display_data"
    }
   ],
   "source": [
    "#For each history.data file, add the planet's mass to a mass array.\n",
    "masses = np.array([])\n",
    "radii = np.array([])\n",
    "\n",
    "desired_age = 1e6\n",
    "for i in range(len(LOG_file_list)):\n",
    "    mod = ms.MesaData(LOG_file_list[i])\n",
    "    \n",
    "    if(max(mod.data('star_age')) >= desired_age):\n",
    "        \n",
    "        masses = np.append(masses, mod.data('star_mass')[0]/Msol_to_MJup)\n",
    "        radius_interp = interpolate.interp1d(mod.data('star_age'), mod.data('radius'))\n",
    "        radii = np.append(radii, radius_interp(desired_age)/Rsol_to_RJup)\n",
    "\n",
    "plt.scatter(masses, radii)"
   ]
  }
 ],
 "metadata": {
  "kernelspec": {
   "display_name": "Python 2",
   "language": "python",
   "name": "python2"
  },
  "language_info": {
   "codemirror_mode": {
    "name": "ipython",
    "version": 2
   },
   "file_extension": ".py",
   "mimetype": "text/x-python",
   "name": "python",
   "nbconvert_exporter": "python",
   "pygments_lexer": "ipython2",
   "version": "2.7.13"
  }
 },
 "nbformat": 4,
 "nbformat_minor": 0
}
